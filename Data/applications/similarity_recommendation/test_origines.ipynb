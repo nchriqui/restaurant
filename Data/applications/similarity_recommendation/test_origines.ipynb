{
 "cells": [
  {
   "cell_type": "code",
   "execution_count": 1,
   "metadata": {},
   "outputs": [],
   "source": [
    "RECIPES_COUNT = 44059\n",
    "INGREDIENTS_COUNT = 21\n",
    "import json\n",
    "\n",
    "\n",
    "def compute_one_knn(recipe_id, recipes_binarized, save=False, file_name=\"scores.json\"):\n",
    "    scores = {}\n",
    "    scores[recipe_id] = {}\n",
    "    for i in recipes_binarized:\n",
    "        scores[recipe_id][i] = sum(\n",
    "            abs(a - b)\n",
    "            for a, b in zip(recipes_binarized[recipe_id], recipes_binarized[i])\n",
    "        )\n",
    "\n",
    "    if save:\n",
    "        # Écrire les données dans un fichier JSON\n",
    "        with open(f\"data/{file_name}\", \"w\") as f:\n",
    "            json.dump(scores, f)\n",
    "\n",
    "    return scores\n",
    "\n",
    "def binarize_recipes(\n",
    "    recipes_dic,\n",
    "    recipes_count=RECIPES_COUNT,\n",
    "    ingredients_count=INGREDIENTS_COUNT,\n",
    "    save=True,\n",
    "):\n",
    "    recipes_binarized = {}\n",
    "    for i in recipes_dic:\n",
    "        recipes_binarized[str(i)] = [0] * (ingredients_count)\n",
    "    for i in range(1, recipes_count + 1):\n",
    "        if str(i) in recipes_dic:\n",
    "            for id in recipes_dic[str(i)]:\n",
    "                recipes_binarized[str(i)][int(id) - 1] = 1\n",
    "    if save:\n",
    "        # Écrire les données dans un fichier JSON\n",
    "        with open(\"data/recipes_binarized.json\", \"w\") as f:\n",
    "            json.dump(recipes_binarized, f)\n",
    "\n",
    "    return recipes_binarized"
   ]
  },
  {
   "cell_type": "code",
   "execution_count": 2,
   "metadata": {},
   "outputs": [
    {
     "ename": "ValueError",
     "evalue": "invalid literal for int() with base 10: 'Fleur'",
     "output_type": "error",
     "traceback": [
      "\u001b[1;31m---------------------------------------------------------------------------\u001b[0m",
      "\u001b[1;31mValueError\u001b[0m                                Traceback (most recent call last)",
      "Cell \u001b[1;32mIn[2], line 6\u001b[0m\n\u001b[0;32m      2\u001b[0m \u001b[39mwith\u001b[39;00m \u001b[39mopen\u001b[39m(\u001b[39m\"\u001b[39m\u001b[39mdata/recipes_data_origines.json\u001b[39m\u001b[39m\"\u001b[39m) \u001b[39mas\u001b[39;00m f:\n\u001b[0;32m      3\u001b[0m     data \u001b[39m=\u001b[39m json\u001b[39m.\u001b[39mload(f)\n\u001b[1;32m----> 6\u001b[0m recipes_binarized \u001b[39m=\u001b[39m binarize_recipes(data, RECIPES_COUNT, INGREDIENTS_COUNT )\n",
      "Cell \u001b[1;32mIn[1], line 34\u001b[0m, in \u001b[0;36mbinarize_recipes\u001b[1;34m(recipes_dic, recipes_count, ingredients_count, save)\u001b[0m\n\u001b[0;32m     32\u001b[0m     \u001b[39mif\u001b[39;00m \u001b[39mstr\u001b[39m(i) \u001b[39min\u001b[39;00m recipes_dic:\n\u001b[0;32m     33\u001b[0m         \u001b[39mfor\u001b[39;00m \u001b[39mid\u001b[39m \u001b[39min\u001b[39;00m recipes_dic[\u001b[39mstr\u001b[39m(i)]:\n\u001b[1;32m---> 34\u001b[0m             recipes_binarized[\u001b[39mstr\u001b[39m(i)][\u001b[39mint\u001b[39;49m(\u001b[39mid\u001b[39;49m) \u001b[39m-\u001b[39m \u001b[39m1\u001b[39m] \u001b[39m=\u001b[39m \u001b[39m1\u001b[39m\n\u001b[0;32m     35\u001b[0m \u001b[39mif\u001b[39;00m save:\n\u001b[0;32m     36\u001b[0m     \u001b[39m# Écrire les données dans un fichier JSON\u001b[39;00m\n\u001b[0;32m     37\u001b[0m     \u001b[39mwith\u001b[39;00m \u001b[39mopen\u001b[39m(\u001b[39m\"\u001b[39m\u001b[39mdata/recipes_binarized.json\u001b[39m\u001b[39m\"\u001b[39m, \u001b[39m\"\u001b[39m\u001b[39mw\u001b[39m\u001b[39m\"\u001b[39m) \u001b[39mas\u001b[39;00m f:\n",
      "\u001b[1;31mValueError\u001b[0m: invalid literal for int() with base 10: 'Fleur'"
     ]
    }
   ],
   "source": [
    "import json\n",
    "with open(\"data/recipes_data_origines.json\") as f:\n",
    "    data = json.load(f)\n",
    "\n",
    "\n",
    "recipes_binarized = binarize_recipes(data, RECIPES_COUNT, INGREDIENTS_COUNT )\n",
    "\n"
   ]
  },
  {
   "cell_type": "code",
   "execution_count": null,
   "metadata": {},
   "outputs": [],
   "source": []
  }
 ],
 "metadata": {
  "kernelspec": {
   "display_name": "Python 3",
   "language": "python",
   "name": "python3"
  },
  "language_info": {
   "codemirror_mode": {
    "name": "ipython",
    "version": 3
   },
   "file_extension": ".py",
   "mimetype": "text/x-python",
   "name": "python",
   "nbconvert_exporter": "python",
   "pygments_lexer": "ipython3",
   "version": "3.11.0"
  },
  "orig_nbformat": 4
 },
 "nbformat": 4,
 "nbformat_minor": 2
}
